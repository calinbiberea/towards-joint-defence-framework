{
 "cells": [
  {
   "cell_type": "markdown",
   "id": "f9a2214e-4e45-460b-88c9-0b53bf2a8a77",
   "metadata": {},
   "source": [
    "# Fashion-MNIST: Framework"
   ]
  },
  {
   "cell_type": "markdown",
   "id": "05846bb8-d6aa-4c30-9f03-011ebcac1635",
   "metadata": {},
   "source": [
    "## Imports and Fashion-MNIST loading"
   ]
  },
  {
   "cell_type": "code",
   "execution_count": 1,
   "id": "8e0185ec-5c51-4234-b79f-e471152f1f08",
   "metadata": {},
   "outputs": [
    {
     "name": "stdout",
     "output_type": "stream",
     "text": [
      "Notebook will use PyTorch Device: CUDA\n",
      "Notebook will use PyTorch Device: CUDA\n",
      "Notebook will use PyTorch Device: CUDA\n",
      "Notebook will use PyTorch Device: CUDA\n",
      "Notebook will use PyTorch Device: CUDA\n"
     ]
    }
   ],
   "source": [
    "# Imports all the module paths\n",
    "import sys\n",
    "sys.path.append(\"../../\")\n",
    "\n",
    "# Requirements for running everything\n",
    "import torch\n",
    "\n",
    "# File containing all the required training methods\n",
    "import defences.fashion_mnist_library as fashion_mnist_library\n",
    "\n",
    "# For testing\n",
    "import utils.clean_test as clean_test\n",
    "\n",
    "# Contains the data loadders\n",
    "import utils.dataloaders as dataloaders\n",
    "\n",
    "# For printing outcomes\n",
    "# import utils.printing as printing\n",
    "\n",
    "# Example printing, but I removed it to simplify results\n",
    "# for epsilon in epsilons:\n",
    "#     printing.print_attack(\n",
    "#         model,\n",
    "#         testSetLoader,\n",
    "#         \"FGSM\",\n",
    "#         attacks[\"FGSM\"],\n",
    "#         epsilon=epsilon,\n",
    "#     )"
   ]
  },
  {
   "cell_type": "markdown",
   "id": "d57efed4-18e9-4f06-9bf2-56f375cf4150",
   "metadata": {},
   "source": [
    "## Load the dataset"
   ]
  },
  {
   "cell_type": "code",
   "execution_count": 2,
   "id": "1399fca3-c63d-418e-9a7c-9dd4ca45cb29",
   "metadata": {},
   "outputs": [],
   "source": [
    "DATA_ROOT = \"../../datasets/\"\n",
    "\n",
    "trainSetLoader, _, testSetLoader = dataloaders.get_Fashion_MNIST_data_loaders(\n",
    "    DATA_ROOT,\n",
    "    trainSetSize=50000,\n",
    "    validationSetSize=0,\n",
    "    batchSize=128,\n",
    ")"
   ]
  },
  {
   "cell_type": "markdown",
   "id": "58ef2487-bc3a-4d62-8b04-0d2adec1df86",
   "metadata": {
    "tags": []
   },
   "source": [
    "## Save path"
   ]
  },
  {
   "cell_type": "code",
   "execution_count": 3,
   "id": "f5adb40d-bea1-482d-aa07-7bd44da7f9e8",
   "metadata": {},
   "outputs": [],
   "source": [
    "SAVE_LOAD_ROOT = \"../../data/fashion_mnist/\""
   ]
  },
  {
   "cell_type": "markdown",
   "id": "20b3024c-60b1-409d-97d6-558eda065dd2",
   "metadata": {
    "tags": []
   },
   "source": [
    "## Load the Attacks For Training"
   ]
  },
  {
   "cell_type": "code",
   "execution_count": 4,
   "id": "58da1290-0174-4fca-be31-11f540c37b6d",
   "metadata": {},
   "outputs": [],
   "source": [
    "# A possible attacks array (for nice printing):\n",
    "# Some attacks use a helper library\n",
    "import torchattacks\n",
    "\n",
    "import attacks.fgsm as fgsm\n",
    "import attacks.ifgsm as ifgsm\n",
    "import attacks.pgd as pgd\n",
    "import utils.attacking as attacking\n",
    "\n",
    "attacks = {}\n",
    "\n",
    "attacks[\"FGSM\"] = fgsm.fgsm_attack\n",
    "attacks[\"I-FGSM\"] = ifgsm.ifgsm_attack\n",
    "attacks[\"PGD\"] = pgd.pgd_attack"
   ]
  },
  {
   "cell_type": "markdown",
   "id": "7b4088b2-fe46-4f2b-8564-688cfd54b365",
   "metadata": {},
   "source": [
    "## Training Phase: Jacobian Regularizared PG+$CW_2$ Adversarially Trained Model (i.e. 2-Attack Adversarial Training)"
   ]
  },
  {
   "cell_type": "code",
   "execution_count": 5,
   "id": "ab054fdd-e942-4070-a6b2-82b65634ba79",
   "metadata": {},
   "outputs": [
    {
     "name": "stdout",
     "output_type": "stream",
     "text": [
      "Found already trained model...\n",
      "... loaded!\n"
     ]
    }
   ],
   "source": [
    "framework_model = fashion_mnist_library.framework_training(\n",
    "    trainSetLoader,\n",
    "    attack_function1=attacks[\"PGD\"],\n",
    "    attack_function2=None,\n",
    "    load_if_available=True,\n",
    "    load_path=SAVE_LOAD_ROOT + \"/fashion_mnist_framework\",\n",
    "    epsilon=0.25,\n",
    "    alpha=(2 / 255),\n",
    "    iterations=7,\n",
    "    steps=500,\n",
    "    c=1,\n",
    ")"
   ]
  },
  {
   "cell_type": "code",
   "execution_count": 6,
   "id": "4dbc5f8c-ae2f-4775-8846-2b9b3663fb97",
   "metadata": {},
   "outputs": [
    {
     "name": "stdout",
     "output_type": "stream",
     "text": [
      "Testing the model...\n"
     ]
    },
    {
     "data": {
      "application/vnd.jupyter.widget-view+json": {
       "model_id": "50ab27131a30498e9d18102aeff0263b",
       "version_major": 2,
       "version_minor": 0
      },
      "text/plain": [
       "Testing Progress:   0%|          | 0/79 [00:00<?, ?it/s]"
      ]
     },
     "metadata": {},
     "output_type": "display_data"
    },
    {
     "name": "stdout",
     "output_type": "stream",
     "text": [
      "... done! Accuracy: 88.22%\n"
     ]
    }
   ],
   "source": [
    "clean_test.test_trained_model(framework_model, testSetLoader)"
   ]
  },
  {
   "cell_type": "code",
   "execution_count": 7,
   "id": "0b11bd61-eb19-4f29-b284-ddff0857f8ad",
   "metadata": {},
   "outputs": [],
   "source": [
    "# Save the model\n",
    "torch.save(framework_model, SAVE_LOAD_ROOT + \"/fashion_mnist_framework\")"
   ]
  },
  {
   "cell_type": "markdown",
   "id": "ab61b91d",
   "metadata": {},
   "source": [
    "### Evaluation"
   ]
  },
  {
   "cell_type": "markdown",
   "id": "626b2b24",
   "metadata": {},
   "source": [
    "#### FGSM"
   ]
  },
  {
   "cell_type": "code",
   "execution_count": 8,
   "id": "eedbbbea",
   "metadata": {},
   "outputs": [
    {
     "name": "stdout",
     "output_type": "stream",
     "text": [
      "Testing the model under FGSM Attack using epsilon = 0, alpha = None...\n"
     ]
    },
    {
     "data": {
      "application/vnd.jupyter.widget-view+json": {
       "model_id": "8c68f2d8275e44f19a6782d342e9064b",
       "version_major": 2,
       "version_minor": 0
      },
      "text/plain": [
       "FGSM Attack Testing Progress:   0%|          | 0/79 [00:00<?, ?it/s]"
      ]
     },
     "metadata": {},
     "output_type": "display_data"
    },
    {
     "name": "stdout",
     "output_type": "stream",
     "text": [
      "... done! Accuracy: 88.22%\n",
      "------------------------------------\n",
      "\n",
      "Testing the model under FGSM Attack using epsilon = 0.01, alpha = None...\n"
     ]
    },
    {
     "data": {
      "application/vnd.jupyter.widget-view+json": {
       "model_id": "c4d1035e438f4b2496bac01aec47d2b9",
       "version_major": 2,
       "version_minor": 0
      },
      "text/plain": [
       "FGSM Attack Testing Progress:   0%|          | 0/79 [00:00<?, ?it/s]"
      ]
     },
     "metadata": {},
     "output_type": "display_data"
    },
    {
     "name": "stdout",
     "output_type": "stream",
     "text": [
      "... done! Accuracy: 86.62%\n",
      "------------------------------------\n",
      "\n",
      "Testing the model under FGSM Attack using epsilon = 0.05, alpha = None...\n"
     ]
    },
    {
     "data": {
      "application/vnd.jupyter.widget-view+json": {
       "model_id": "953a2101a08b496ca666597b8682ee11",
       "version_major": 2,
       "version_minor": 0
      },
      "text/plain": [
       "FGSM Attack Testing Progress:   0%|          | 0/79 [00:00<?, ?it/s]"
      ]
     },
     "metadata": {},
     "output_type": "display_data"
    },
    {
     "name": "stdout",
     "output_type": "stream",
     "text": [
      "... done! Accuracy: 78.79%\n",
      "------------------------------------\n",
      "\n",
      "Testing the model under FGSM Attack using epsilon = 0.1, alpha = None...\n"
     ]
    },
    {
     "data": {
      "application/vnd.jupyter.widget-view+json": {
       "model_id": "7eb7b4312b154bc5874bfe1459c3eed1",
       "version_major": 2,
       "version_minor": 0
      },
      "text/plain": [
       "FGSM Attack Testing Progress:   0%|          | 0/79 [00:00<?, ?it/s]"
      ]
     },
     "metadata": {},
     "output_type": "display_data"
    },
    {
     "name": "stdout",
     "output_type": "stream",
     "text": [
      "... done! Accuracy: 67.88%\n",
      "------------------------------------\n",
      "\n",
      "Testing the model under FGSM Attack using epsilon = 0.2, alpha = None...\n"
     ]
    },
    {
     "data": {
      "application/vnd.jupyter.widget-view+json": {
       "model_id": "6196f503f10c4bafa80ea24fbad71652",
       "version_major": 2,
       "version_minor": 0
      },
      "text/plain": [
       "FGSM Attack Testing Progress:   0%|          | 0/79 [00:00<?, ?it/s]"
      ]
     },
     "metadata": {},
     "output_type": "display_data"
    },
    {
     "name": "stdout",
     "output_type": "stream",
     "text": [
      "... done! Accuracy: 42.06%\n",
      "------------------------------------\n",
      "\n",
      "Testing the model under FGSM Attack using epsilon = 0.35, alpha = None...\n"
     ]
    },
    {
     "data": {
      "application/vnd.jupyter.widget-view+json": {
       "model_id": "7fd6d29dc2a346fd9a960822ec1e6b6f",
       "version_major": 2,
       "version_minor": 0
      },
      "text/plain": [
       "FGSM Attack Testing Progress:   0%|          | 0/79 [00:00<?, ?it/s]"
      ]
     },
     "metadata": {},
     "output_type": "display_data"
    },
    {
     "name": "stdout",
     "output_type": "stream",
     "text": [
      "... done! Accuracy: 8.12%\n",
      "------------------------------------\n",
      "\n",
      "Testing the model under FGSM Attack using epsilon = 0.55, alpha = None...\n"
     ]
    },
    {
     "data": {
      "application/vnd.jupyter.widget-view+json": {
       "model_id": "c4258d3e1982411c94d2e549a7db3c0d",
       "version_major": 2,
       "version_minor": 0
      },
      "text/plain": [
       "FGSM Attack Testing Progress:   0%|          | 0/79 [00:00<?, ?it/s]"
      ]
     },
     "metadata": {},
     "output_type": "display_data"
    },
    {
     "name": "stdout",
     "output_type": "stream",
     "text": [
      "... done! Accuracy: 3.76%\n",
      "------------------------------------\n",
      "\n",
      "Testing the model under FGSM Attack using epsilon = 0.75, alpha = None...\n"
     ]
    },
    {
     "data": {
      "application/vnd.jupyter.widget-view+json": {
       "model_id": "4db6697f476d4512b73d53fb24486002",
       "version_major": 2,
       "version_minor": 0
      },
      "text/plain": [
       "FGSM Attack Testing Progress:   0%|          | 0/79 [00:00<?, ?it/s]"
      ]
     },
     "metadata": {},
     "output_type": "display_data"
    },
    {
     "name": "stdout",
     "output_type": "stream",
     "text": [
      "... done! Accuracy: 5.78%\n",
      "------------------------------------\n",
      "\n",
      "Testing the model under FGSM Attack using epsilon = 1, alpha = None...\n"
     ]
    },
    {
     "data": {
      "application/vnd.jupyter.widget-view+json": {
       "model_id": "5a498affaf1c425d9088e01f4c5c646d",
       "version_major": 2,
       "version_minor": 0
      },
      "text/plain": [
       "FGSM Attack Testing Progress:   0%|          | 0/79 [00:00<?, ?it/s]"
      ]
     },
     "metadata": {},
     "output_type": "display_data"
    },
    {
     "name": "stdout",
     "output_type": "stream",
     "text": [
      "... done! Accuracy: 7.68%\n",
      "------------------------------------\n",
      "\n"
     ]
    }
   ],
   "source": [
    "# Several values to use for the epsilons\n",
    "epsilons = [0, 0.01, 0.05, 0.1, 0.2, 0.35, 0.55, 0.75, 1]\n",
    "\n",
    "# Run test for each epsilon\n",
    "for epsilon in epsilons:\n",
    "    attacking.attack_model(\n",
    "        framework_model,\n",
    "        testSetLoader,\n",
    "        \"FGSM\",\n",
    "        attacks[\"FGSM\"],\n",
    "        epsilon=epsilon,\n",
    "    )"
   ]
  },
  {
   "cell_type": "markdown",
   "id": "1c8b1d02",
   "metadata": {},
   "source": [
    "#### PGD"
   ]
  },
  {
   "cell_type": "code",
   "execution_count": 9,
   "id": "c135db17",
   "metadata": {},
   "outputs": [
    {
     "name": "stdout",
     "output_type": "stream",
     "text": [
      "Testing the model under PGD Attack using epsilon = 0, alpha = 0.00784313725490196...\n"
     ]
    },
    {
     "data": {
      "application/vnd.jupyter.widget-view+json": {
       "model_id": "96a25f8989214554b1460c2f9357a63c",
       "version_major": 2,
       "version_minor": 0
      },
      "text/plain": [
       "PGD Attack Testing Progress:   0%|          | 0/79 [00:00<?, ?it/s]"
      ]
     },
     "metadata": {},
     "output_type": "display_data"
    },
    {
     "name": "stdout",
     "output_type": "stream",
     "text": [
      "... done! Accuracy: 88.22%\n",
      "------------------------------------\n",
      "\n",
      "Testing the model under PGD Attack using epsilon = 0.01, alpha = 0.00784313725490196...\n"
     ]
    },
    {
     "data": {
      "application/vnd.jupyter.widget-view+json": {
       "model_id": "cebeeb74b24849aa9eefe1a7ae331901",
       "version_major": 2,
       "version_minor": 0
      },
      "text/plain": [
       "PGD Attack Testing Progress:   0%|          | 0/79 [00:00<?, ?it/s]"
      ]
     },
     "metadata": {},
     "output_type": "display_data"
    },
    {
     "name": "stdout",
     "output_type": "stream",
     "text": [
      "... done! Accuracy: 86.59%\n",
      "------------------------------------\n",
      "\n",
      "Testing the model under PGD Attack using epsilon = 0.05, alpha = 0.00784313725490196...\n"
     ]
    },
    {
     "data": {
      "application/vnd.jupyter.widget-view+json": {
       "model_id": "10bcb882a94340c3ad92295fcdc42046",
       "version_major": 2,
       "version_minor": 0
      },
      "text/plain": [
       "PGD Attack Testing Progress:   0%|          | 0/79 [00:00<?, ?it/s]"
      ]
     },
     "metadata": {},
     "output_type": "display_data"
    },
    {
     "name": "stdout",
     "output_type": "stream",
     "text": [
      "... done! Accuracy: 79.85%\n",
      "------------------------------------\n",
      "\n",
      "Testing the model under PGD Attack using epsilon = 0.1, alpha = 0.00784313725490196...\n"
     ]
    },
    {
     "data": {
      "application/vnd.jupyter.widget-view+json": {
       "model_id": "14270c32fd414004a9305cb0fdf65948",
       "version_major": 2,
       "version_minor": 0
      },
      "text/plain": [
       "PGD Attack Testing Progress:   0%|          | 0/79 [00:00<?, ?it/s]"
      ]
     },
     "metadata": {},
     "output_type": "display_data"
    },
    {
     "name": "stdout",
     "output_type": "stream",
     "text": [
      "... done! Accuracy: 77.29%\n",
      "------------------------------------\n",
      "\n",
      "Testing the model under PGD Attack using epsilon = 0.2, alpha = 0.00784313725490196...\n"
     ]
    },
    {
     "data": {
      "application/vnd.jupyter.widget-view+json": {
       "model_id": "d2f77c0053fd4850a93f4331ca7ea1a7",
       "version_major": 2,
       "version_minor": 0
      },
      "text/plain": [
       "PGD Attack Testing Progress:   0%|          | 0/79 [00:00<?, ?it/s]"
      ]
     },
     "metadata": {},
     "output_type": "display_data"
    },
    {
     "name": "stdout",
     "output_type": "stream",
     "text": [
      "... done! Accuracy: 75.59%\n",
      "------------------------------------\n",
      "\n",
      "Testing the model under PGD Attack using epsilon = 0.35, alpha = 0.00784313725490196...\n"
     ]
    },
    {
     "data": {
      "application/vnd.jupyter.widget-view+json": {
       "model_id": "7159b35cd6494c5483ce25dd2452f773",
       "version_major": 2,
       "version_minor": 0
      },
      "text/plain": [
       "PGD Attack Testing Progress:   0%|          | 0/79 [00:00<?, ?it/s]"
      ]
     },
     "metadata": {},
     "output_type": "display_data"
    },
    {
     "name": "stdout",
     "output_type": "stream",
     "text": [
      "... done! Accuracy: 71.18%\n",
      "------------------------------------\n",
      "\n",
      "Testing the model under PGD Attack using epsilon = 0.55, alpha = 0.00784313725490196...\n"
     ]
    },
    {
     "data": {
      "application/vnd.jupyter.widget-view+json": {
       "model_id": "44439b03b0d64a4fb0c4e5648866df1a",
       "version_major": 2,
       "version_minor": 0
      },
      "text/plain": [
       "PGD Attack Testing Progress:   0%|          | 0/79 [00:00<?, ?it/s]"
      ]
     },
     "metadata": {},
     "output_type": "display_data"
    },
    {
     "name": "stdout",
     "output_type": "stream",
     "text": [
      "... done! Accuracy: 52.89%\n",
      "------------------------------------\n",
      "\n",
      "Testing the model under PGD Attack using epsilon = 0.75, alpha = 0.00784313725490196...\n"
     ]
    },
    {
     "data": {
      "application/vnd.jupyter.widget-view+json": {
       "model_id": "30cff60a2673439facd889a79ebe7cf2",
       "version_major": 2,
       "version_minor": 0
      },
      "text/plain": [
       "PGD Attack Testing Progress:   0%|          | 0/79 [00:00<?, ?it/s]"
      ]
     },
     "metadata": {},
     "output_type": "display_data"
    },
    {
     "name": "stdout",
     "output_type": "stream",
     "text": [
      "... done! Accuracy: 28.49%\n",
      "------------------------------------\n",
      "\n",
      "Testing the model under PGD Attack using epsilon = 1, alpha = 0.00784313725490196...\n"
     ]
    },
    {
     "data": {
      "application/vnd.jupyter.widget-view+json": {
       "model_id": "117f84fd24414205ab36b26387bf74e9",
       "version_major": 2,
       "version_minor": 0
      },
      "text/plain": [
       "PGD Attack Testing Progress:   0%|          | 0/79 [00:00<?, ?it/s]"
      ]
     },
     "metadata": {},
     "output_type": "display_data"
    },
    {
     "name": "stdout",
     "output_type": "stream",
     "text": [
      "... done! Accuracy: 7.7%\n",
      "------------------------------------\n",
      "\n"
     ]
    }
   ],
   "source": [
    "# Several values to use for the epsilons\n",
    "epsilons = [0, 0.01, 0.05, 0.1, 0.2, 0.35, 0.55, 0.75, 1]\n",
    "\n",
    "for epsilon in epsilons:\n",
    "    attacking.attack_model(\n",
    "        framework_model,\n",
    "        testSetLoader,\n",
    "        \"PGD\",\n",
    "        attacks[\"PGD\"],\n",
    "        epsilon=epsilon,\n",
    "        alpha=(2 / 255),\n",
    "        iterations=7,\n",
    "    )"
   ]
  },
  {
   "cell_type": "markdown",
   "id": "9a1af51f",
   "metadata": {},
   "source": [
    "#### $CW_2$"
   ]
  },
  {
   "cell_type": "code",
   "execution_count": 10,
   "id": "ff1cfb34",
   "metadata": {},
   "outputs": [
    {
     "name": "stdout",
     "output_type": "stream",
     "text": [
      "Testing the model under CW Attack...\n"
     ]
    },
    {
     "data": {
      "application/vnd.jupyter.widget-view+json": {
       "model_id": "349939201aa14b358762e6bfa4d9b91a",
       "version_major": 2,
       "version_minor": 0
      },
      "text/plain": [
       "CW Attack Testing Progress:   0%|          | 0/79 [00:00<?, ?it/s]"
      ]
     },
     "metadata": {},
     "output_type": "display_data"
    },
    {
     "name": "stdout",
     "output_type": "stream",
     "text": [
      "... done! Accuracy: 76.28%\n",
      "------------------------------------\n",
      "\n",
      "Testing the model under CW Attack...\n"
     ]
    },
    {
     "data": {
      "application/vnd.jupyter.widget-view+json": {
       "model_id": "c169b549f6a145788727003bcb468b61",
       "version_major": 2,
       "version_minor": 0
      },
      "text/plain": [
       "CW Attack Testing Progress:   0%|          | 0/79 [00:00<?, ?it/s]"
      ]
     },
     "metadata": {},
     "output_type": "display_data"
    },
    {
     "name": "stdout",
     "output_type": "stream",
     "text": [
      "... done! Accuracy: 73.32%\n",
      "------------------------------------\n",
      "\n",
      "Testing the model under CW Attack...\n"
     ]
    },
    {
     "data": {
      "application/vnd.jupyter.widget-view+json": {
       "model_id": "de1cad2c552141a78c906bb5030c1a5a",
       "version_major": 2,
       "version_minor": 0
      },
      "text/plain": [
       "CW Attack Testing Progress:   0%|          | 0/79 [00:00<?, ?it/s]"
      ]
     },
     "metadata": {},
     "output_type": "display_data"
    },
    {
     "name": "stdout",
     "output_type": "stream",
     "text": [
      "... done! Accuracy: 71.43%\n",
      "------------------------------------\n",
      "\n",
      "Testing the model under CW Attack...\n"
     ]
    },
    {
     "data": {
      "application/vnd.jupyter.widget-view+json": {
       "model_id": "20773c54ffef4bf9a964389227592f9b",
       "version_major": 2,
       "version_minor": 0
      },
      "text/plain": [
       "CW Attack Testing Progress:   0%|          | 0/79 [00:00<?, ?it/s]"
      ]
     },
     "metadata": {},
     "output_type": "display_data"
    },
    {
     "name": "stdout",
     "output_type": "stream",
     "text": [
      "... done! Accuracy: 63.07%\n",
      "------------------------------------\n",
      "\n",
      "Testing the model under CW Attack...\n"
     ]
    },
    {
     "data": {
      "application/vnd.jupyter.widget-view+json": {
       "model_id": "ec97380102484bd7baf3a59256a39318",
       "version_major": 2,
       "version_minor": 0
      },
      "text/plain": [
       "CW Attack Testing Progress:   0%|          | 0/79 [00:00<?, ?it/s]"
      ]
     },
     "metadata": {},
     "output_type": "display_data"
    },
    {
     "name": "stdout",
     "output_type": "stream",
     "text": [
      "... done! Accuracy: 44.62%\n",
      "------------------------------------\n",
      "\n",
      "Testing the model under CW Attack...\n"
     ]
    },
    {
     "data": {
      "application/vnd.jupyter.widget-view+json": {
       "model_id": "41188a9d6ee2463d9ea6b3b89fab58e3",
       "version_major": 2,
       "version_minor": 0
      },
      "text/plain": [
       "CW Attack Testing Progress:   0%|          | 0/79 [00:00<?, ?it/s]"
      ]
     },
     "metadata": {},
     "output_type": "display_data"
    },
    {
     "name": "stdout",
     "output_type": "stream",
     "text": [
      "... done! Accuracy: 27.04%\n",
      "------------------------------------\n",
      "\n",
      "Testing the model under CW Attack...\n"
     ]
    },
    {
     "data": {
      "application/vnd.jupyter.widget-view+json": {
       "model_id": "64cb16441cdb4c458ba4a2a40b0d5dca",
       "version_major": 2,
       "version_minor": 0
      },
      "text/plain": [
       "CW Attack Testing Progress:   0%|          | 0/79 [00:00<?, ?it/s]"
      ]
     },
     "metadata": {},
     "output_type": "display_data"
    },
    {
     "name": "stdout",
     "output_type": "stream",
     "text": [
      "... done! Accuracy: 58.44%\n",
      "------------------------------------\n",
      "\n",
      "Testing the model under CW Attack...\n"
     ]
    },
    {
     "data": {
      "application/vnd.jupyter.widget-view+json": {
       "model_id": "3fcc6c238c9e46368a18cdcbfea6233e",
       "version_major": 2,
       "version_minor": 0
      },
      "text/plain": [
       "CW Attack Testing Progress:   0%|          | 0/79 [00:00<?, ?it/s]"
      ]
     },
     "metadata": {},
     "output_type": "display_data"
    },
    {
     "name": "stdout",
     "output_type": "stream",
     "text": [
      "... done! Accuracy: 33.21%\n",
      "------------------------------------\n",
      "\n",
      "Testing the model under CW Attack...\n"
     ]
    },
    {
     "data": {
      "application/vnd.jupyter.widget-view+json": {
       "model_id": "6932324aa4e445cfb4cb8bb2625e83f6",
       "version_major": 2,
       "version_minor": 0
      },
      "text/plain": [
       "CW Attack Testing Progress:   0%|          | 0/79 [00:00<?, ?it/s]"
      ]
     },
     "metadata": {},
     "output_type": "display_data"
    },
    {
     "name": "stdout",
     "output_type": "stream",
     "text": [
      "... done! Accuracy: 10.95%\n",
      "------------------------------------\n",
      "\n"
     ]
    }
   ],
   "source": [
    "step_nums = [50, 100, 500]\n",
    "cs = [1, 3, 5]\n",
    "\n",
    "for c in cs:\n",
    "    for step_num in step_nums:\n",
    "        cw_attack = torchattacks.CW(framework_model, c=c, steps=step_num)\n",
    "        attacks[\"CW\"] = cw_attack\n",
    "\n",
    "        attacking.attack_model(\n",
    "        framework_model,\n",
    "        testSetLoader,\n",
    "        \"CW\",\n",
    "        attacks[\"CW\"],\n",
    "        library=True,\n",
    "        )"
   ]
  },
  {
   "cell_type": "markdown",
   "id": "9ebfeab1-3028-4f41-95cb-1ef6e90746f7",
   "metadata": {},
   "source": [
    "## Detection Phase: PCA-based Detection"
   ]
  },
  {
   "cell_type": "code",
   "execution_count": 11,
   "id": "ef732644-3754-4662-9793-d76fe8eacab4",
   "metadata": {},
   "outputs": [
    {
     "name": "stdout",
     "output_type": "stream",
     "text": [
      "Notebook will use PyTorch Device: CUDA\n"
     ]
    }
   ],
   "source": [
    "import numpy as np\n",
    "import torch\n",
    "import torch.nn as nn\n",
    "from sklearn.decomposition import PCA\n",
    "from torch.autograd import Variable\n",
    "from tqdm.notebook import tnrange, tqdm\n",
    "\n",
    "# Define the `device` PyTorch will be running on, please hope it is CUDA\n",
    "device = \"cuda\" if torch.cuda.is_available() else \"cpu\"\n",
    "print(\"Notebook will use PyTorch Device: \" + device.upper())\n",
    "\n",
    "# Copy the MNIST data and then fit using PCA\n",
    "# First convert to numpy arrays (and make it float)\n",
    "numpyTrainingData = trainSetLoader.dataset.data.numpy().astype(\"float32\")\n",
    "# Note you also need to reshape the input data for your sanity\n",
    "reshapedNumpyTrainingData = numpyTrainingData.reshape((len(numpyTrainingData), 28 * 28))\n",
    "\n",
    "# Then perform PCA on training data to get principal components\n",
    "# Note it should reflect dimension of image, i.e. 28 * 28\n",
    "pca = PCA(n_components=28 * 28).fit(reshapedNumpyTrainingData)\n",
    "\n",
    "# For testing\n",
    "loss_function = torch.nn.CrossEntropyLoss()"
   ]
  },
  {
   "cell_type": "markdown",
   "id": "c6d5ca70-48a8-432e-b3b5-bed94e993462",
   "metadata": {},
   "source": [
    "#### Benign Data"
   ]
  },
  {
   "cell_type": "code",
   "execution_count": 12,
   "id": "16d323f4-bce0-41d3-b566-ac2f1952ba24",
   "metadata": {},
   "outputs": [
    {
     "name": "stdout",
     "output_type": "stream",
     "text": [
      "36\n"
     ]
    }
   ],
   "source": [
    "# Now on clean data check if there are any adversarial samples\n",
    "numpyTestData = testSetLoader.dataset.data.numpy().astype(\"float32\")\n",
    "reshapedNumpyTestData = numpyTestData.reshape((len(numpyTestData), 28 * 28))\n",
    "\n",
    "# Original predictions on data\n",
    "testTensor = torch.from_numpy(\n",
    "    np.reshape(numpyTestData, (len(numpyTestData), 1, 28, 28))\n",
    ").to(device)\n",
    "logits = framework_model(testTensor).detach().cpu().numpy()\n",
    "predictions_base = np.array([np.argmax(logits[i]) for i in range(len(numpyTestData))])\n",
    "\n",
    "# Transform clean data along principal components\n",
    "transformedTestData = pca.transform(reshapedNumpyTestData)\n",
    "\n",
    "# Decides how many of the least significant coefficients (of components) to perturb\n",
    "num_components = 200\n",
    "\n",
    "# How many trials to run\n",
    "num_trials = 25\n",
    "\n",
    "# Track results\n",
    "result = np.zeros(len(numpyTestData), dtype=int)\n",
    "\n",
    "# Actual attempts\n",
    "for trial in range(num_trials):\n",
    "    random_noise = np.random.standard_normal(size=num_components)\n",
    "\n",
    "    # Copy the data\n",
    "    transformedTestDataNoisy = np.copy(transformedTestData)\n",
    "\n",
    "    # Update the components with the right data\n",
    "    for index in range(len(numpyTestData)):\n",
    "        transformedTestDataNoisy[index][(28 * 28 - num_components) :] += (\n",
    "            10 * random_noise\n",
    "        )\n",
    "\n",
    "    # Now calculate the inverse using PCA and the noise\n",
    "    inverseTestDataNoisy = pca.inverse_transform(transformedTestDataNoisy)\n",
    "\n",
    "    # Reshape into image\n",
    "    testDataNoisy = np.reshape(inverseTestDataNoisy, (len(numpyTestData), 1, 28, 28))\n",
    "\n",
    "    # Predict\n",
    "    testTensor = torch.from_numpy(\n",
    "        np.reshape(testDataNoisy, (len(testDataNoisy), 1, 28, 28))\n",
    "    ).to(device)\n",
    "    logits = framework_model(testTensor).detach().cpu().numpy()\n",
    "    predictions_modified = np.array(\n",
    "        [np.argmax(logits[i]) for i in range(len(testDataNoisy))]\n",
    "    )\n",
    "\n",
    "    check = np.not_equal(predictions_modified, predictions_base)\n",
    "    result = np.logical_or(check, result)\n",
    "\n",
    "# Printing\n",
    "print(np.sum(result))"
   ]
  },
  {
   "cell_type": "markdown",
   "id": "189e3924-7e1b-4c87-b7b2-671f16cebbf3",
   "metadata": {},
   "source": [
    "#### FGSM Data"
   ]
  },
  {
   "cell_type": "code",
   "execution_count": 13,
   "id": "d816f0bf-6b54-48b2-9592-02092222ff15",
   "metadata": {},
   "outputs": [
    {
     "data": {
      "application/vnd.jupyter.widget-view+json": {
       "model_id": "785a4b250c4b4d9782e7bc09caebcd0b",
       "version_major": 2,
       "version_minor": 0
      },
      "text/plain": [
       "Testing Progress:   0%|          | 0/79 [00:00<?, ?it/s]"
      ]
     },
     "metadata": {},
     "output_type": "display_data"
    },
    {
     "name": "stdout",
     "output_type": "stream",
     "text": [
      "3717\n"
     ]
    }
   ],
   "source": [
    "# Now do the same on adversarial data check if there are any adversarial samples\n",
    "# Use a pretty progress bar to show updates\n",
    "data = []\n",
    "\n",
    "for j, (images, labels) in enumerate(\n",
    "    tqdm(testSetLoader, desc=\"Testing Progress\", leave=False)\n",
    "):\n",
    "    # Cast to proper tensor\n",
    "    images, labels = images.to(device), labels.to(device)\n",
    "\n",
    "    # Perturb the images using the attack\n",
    "    perturbed_images = fgsm.fgsm_attack(\n",
    "        images,\n",
    "        labels,\n",
    "        framework_model,\n",
    "        loss_function,\n",
    "        epsilon=0.75,\n",
    "        alpha=None,\n",
    "        scale=True,\n",
    "        iterations=None,\n",
    "    )\n",
    "\n",
    "    for perturbed_image in perturbed_images:\n",
    "        data.append(perturbed_image.detach().cpu().numpy())\n",
    "\n",
    "data = np.asarray(data)\n",
    "numpyTestData = data.astype(\"float32\")\n",
    "reshapedNumpyTestData = numpyTestData.reshape((len(numpyTestData), 28 * 28))\n",
    "\n",
    "# Original predictions on data\n",
    "testTensor = torch.from_numpy(\n",
    "    np.reshape(numpyTestData, (len(numpyTestData), 1, 28, 28))\n",
    ").to(device)\n",
    "logits = framework_model(testTensor).detach().cpu().numpy()\n",
    "predictions_base = np.array([np.argmax(logits[i]) for i in range(len(numpyTestData))])\n",
    "\n",
    "# Transform clean data along principal components\n",
    "transformedTestData = pca.transform(reshapedNumpyTestData)\n",
    "\n",
    "# Decides how many of the least significant coefficients (of components) to perturb\n",
    "num_components = 200\n",
    "\n",
    "# How many trials to run\n",
    "num_trials = 25\n",
    "\n",
    "# Track results\n",
    "result = np.zeros(len(numpyTestData), dtype=int)\n",
    "\n",
    "# Actual attempts\n",
    "for trial in range(num_trials):\n",
    "    random_noise = np.random.standard_normal(size=num_components)\n",
    "\n",
    "    # Copy the data\n",
    "    transformedTestDataNoisy = np.copy(transformedTestData)\n",
    "\n",
    "    # Update the components with the right data\n",
    "    for index in range(len(numpyTestData)):\n",
    "        transformedTestDataNoisy[index][(28 * 28 - num_components) :] += (\n",
    "            10 * random_noise\n",
    "        )\n",
    "\n",
    "    # Now calculate the inverse using PCA and the noise\n",
    "    inverseTestDataNoisy = pca.inverse_transform(transformedTestDataNoisy)\n",
    "\n",
    "    # Reshape into image\n",
    "    testDataNoisy = np.reshape(inverseTestDataNoisy, (len(numpyTestData), 1, 28, 28))\n",
    "\n",
    "    # Predict\n",
    "    testTensor = torch.from_numpy(\n",
    "        np.reshape(testDataNoisy, (len(testDataNoisy), 1, 28, 28))\n",
    "    ).to(device)\n",
    "    logits = logits = framework_model(testTensor).detach().cpu().numpy()\n",
    "    predictions_modified = np.array(\n",
    "        [np.argmax(logits[i]) for i in range(len(testDataNoisy))]\n",
    "    )\n",
    "\n",
    "    check = np.not_equal(predictions_modified, predictions_base)\n",
    "    result = np.logical_or(check, result)\n",
    "\n",
    "# Printing\n",
    "print(np.sum(result))"
   ]
  },
  {
   "cell_type": "markdown",
   "id": "44c102d2-3fc7-48ad-9820-fde13466959e",
   "metadata": {},
   "source": [
    "#### PGD Data"
   ]
  },
  {
   "cell_type": "code",
   "execution_count": 14,
   "id": "11eb2534-23ab-4b90-a271-736f4da183fe",
   "metadata": {},
   "outputs": [
    {
     "data": {
      "application/vnd.jupyter.widget-view+json": {
       "model_id": "39f64aba184749f8b2da15c5daccd8f4",
       "version_major": 2,
       "version_minor": 0
      },
      "text/plain": [
       "Testing Progress:   0%|          | 0/79 [00:00<?, ?it/s]"
      ]
     },
     "metadata": {},
     "output_type": "display_data"
    },
    {
     "name": "stdout",
     "output_type": "stream",
     "text": [
      "8999\n"
     ]
    }
   ],
   "source": [
    "# Now do the same on adversarial data check if there are any adversarial samples\n",
    "# Use a pretty progress bar to show updates\n",
    "data = []\n",
    "\n",
    "for j, (images, labels) in enumerate(\n",
    "    tqdm(testSetLoader, desc=\"Testing Progress\", leave=False)\n",
    "):\n",
    "    # Cast to proper tensor\n",
    "    images, labels = images.to(device), labels.to(device)\n",
    "\n",
    "    # Perturb the images using the attack\n",
    "    perturbed_images = pgd.pgd_attack(\n",
    "        images,\n",
    "        labels,\n",
    "        framework_model,\n",
    "        loss_function,\n",
    "        epsilon=0.0001,\n",
    "        alpha=(2 / 255),\n",
    "        iterations=20,\n",
    "        scale=True,\n",
    "    )\n",
    "\n",
    "    for perturbed_image in perturbed_images:\n",
    "        data.append(perturbed_image.detach().cpu().numpy())\n",
    "\n",
    "data = np.asarray(data)\n",
    "numpyTestData = data.astype(\"float32\")\n",
    "reshapedNumpyTestData = numpyTestData.reshape((len(numpyTestData), 28 * 28))\n",
    "\n",
    "# Original predictions on data\n",
    "testTensor = torch.from_numpy(\n",
    "    np.reshape(numpyTestData, (len(numpyTestData), 1, 28, 28))\n",
    ").to(device)\n",
    "logits = framework_model(testTensor).detach().cpu().numpy()\n",
    "predictions_base = np.array([np.argmax(logits[i]) for i in range(len(numpyTestData))])\n",
    "\n",
    "# Transform clean data along principal components\n",
    "transformedTestData = pca.transform(reshapedNumpyTestData)\n",
    "\n",
    "# Decides how many of the least significant coefficients (of components) to perturb\n",
    "num_components = 200\n",
    "\n",
    "# How many trials to run\n",
    "num_trials = 25\n",
    "\n",
    "# Track results\n",
    "result = np.zeros(len(numpyTestData), dtype=int)\n",
    "\n",
    "# Actual attempts\n",
    "for trial in range(num_trials):\n",
    "    random_noise = np.random.standard_normal(size=num_components)\n",
    "\n",
    "    # Copy the data\n",
    "    transformedTestDataNoisy = np.copy(transformedTestData)\n",
    "\n",
    "    # Update the components with the right data\n",
    "    for index in range(len(numpyTestData)):\n",
    "        transformedTestDataNoisy[index][(28 * 28 - num_components) :] += (\n",
    "            10 * random_noise\n",
    "        )\n",
    "\n",
    "    # Now calculate the inverse using PCA and the noise\n",
    "    inverseTestDataNoisy = pca.inverse_transform(transformedTestDataNoisy)\n",
    "\n",
    "    # Reshape into image\n",
    "    testDataNoisy = np.reshape(inverseTestDataNoisy, (len(numpyTestData), 1, 28, 28))\n",
    "\n",
    "    # Predict\n",
    "    testTensor = torch.from_numpy(\n",
    "        np.reshape(testDataNoisy, (len(testDataNoisy), 1, 28, 28))\n",
    "    ).to(device)\n",
    "    logits = logits = framework_model(testTensor).detach().cpu().numpy()\n",
    "    predictions_modified = np.array(\n",
    "        [np.argmax(logits[i]) for i in range(len(testDataNoisy))]\n",
    "    )\n",
    "\n",
    "    check = np.not_equal(predictions_modified, predictions_base)\n",
    "    result = np.logical_or(check, result)\n",
    "\n",
    "# Printing\n",
    "print(np.sum(result))"
   ]
  },
  {
   "cell_type": "code",
   "execution_count": 15,
   "id": "ae74eef3-1a70-4c53-aa1e-c8774546fb7e",
   "metadata": {},
   "outputs": [
    {
     "data": {
      "application/vnd.jupyter.widget-view+json": {
       "model_id": "53a4a77f982c411092918f56e6ca97bb",
       "version_major": 2,
       "version_minor": 0
      },
      "text/plain": [
       "Testing Progress:   0%|          | 0/79 [00:00<?, ?it/s]"
      ]
     },
     "metadata": {},
     "output_type": "display_data"
    },
    {
     "name": "stdout",
     "output_type": "stream",
     "text": [
      "9449\n"
     ]
    }
   ],
   "source": [
    "# Now do the same on adversarial data check if there are any adversarial samples\n",
    "# Use a pretty progress bar to show updates\n",
    "data = []\n",
    "\n",
    "for j, (images, labels) in enumerate(\n",
    "    tqdm(testSetLoader, desc=\"Testing Progress\", leave=False)\n",
    "):\n",
    "    # Cast to proper tensor\n",
    "    images, labels = images.to(device), labels.to(device)\n",
    "\n",
    "    # Perturb the images using the attack\n",
    "    perturbed_images = pgd.pgd_attack(\n",
    "        images,\n",
    "        labels,\n",
    "        framework_model,\n",
    "        loss_function,\n",
    "        epsilon=0.01,\n",
    "        alpha=(2 / 255),\n",
    "        iterations=200,\n",
    "        scale=True,\n",
    "    )\n",
    "\n",
    "    for perturbed_image in perturbed_images:\n",
    "        data.append(perturbed_image.detach().cpu().numpy())\n",
    "\n",
    "data = np.asarray(data)\n",
    "numpyTestData = data.astype(\"float32\")\n",
    "reshapedNumpyTestData = numpyTestData.reshape((len(numpyTestData), 28 * 28))\n",
    "\n",
    "# Original predictions on data\n",
    "testTensor = torch.from_numpy(\n",
    "    np.reshape(numpyTestData, (len(numpyTestData), 1, 28, 28))\n",
    ").to(device)\n",
    "logits = framework_model(testTensor).detach().cpu().numpy()\n",
    "predictions_base = np.array([np.argmax(logits[i]) for i in range(len(numpyTestData))])\n",
    "\n",
    "# Transform clean data along principal components\n",
    "transformedTestData = pca.transform(reshapedNumpyTestData)\n",
    "\n",
    "# Decides how many of the least significant coefficients (of components) to perturb\n",
    "num_components = 200\n",
    "\n",
    "# How many trials to run\n",
    "num_trials = 25\n",
    "\n",
    "# Track results\n",
    "result = np.zeros(len(numpyTestData), dtype=int)\n",
    "\n",
    "# Actual attempts\n",
    "for trial in range(num_trials):\n",
    "    random_noise = np.random.standard_normal(size=num_components)\n",
    "\n",
    "    # Copy the data\n",
    "    transformedTestDataNoisy = np.copy(transformedTestData)\n",
    "\n",
    "    # Update the components with the right data\n",
    "    for index in range(len(numpyTestData)):\n",
    "        transformedTestDataNoisy[index][(28 * 28 - num_components) :] += (\n",
    "            10 * random_noise\n",
    "        )\n",
    "\n",
    "    # Now calculate the inverse using PCA and the noise\n",
    "    inverseTestDataNoisy = pca.inverse_transform(transformedTestDataNoisy)\n",
    "\n",
    "    # Reshape into image\n",
    "    testDataNoisy = np.reshape(inverseTestDataNoisy, (len(numpyTestData), 1, 28, 28))\n",
    "\n",
    "    # Predict\n",
    "    testTensor = torch.from_numpy(\n",
    "        np.reshape(testDataNoisy, (len(testDataNoisy), 1, 28, 28))\n",
    "    ).to(device)\n",
    "    logits = logits = framework_model(testTensor).detach().cpu().numpy()\n",
    "    predictions_modified = np.array(\n",
    "        [np.argmax(logits[i]) for i in range(len(testDataNoisy))]\n",
    "    )\n",
    "\n",
    "    check = np.not_equal(predictions_modified, predictions_base)\n",
    "    result = np.logical_or(check, result)\n",
    "\n",
    "# Printing\n",
    "print(np.sum(result))"
   ]
  },
  {
   "cell_type": "code",
   "execution_count": 16,
   "id": "c54932b0-ef86-44fd-aaa7-430cd8322e4a",
   "metadata": {},
   "outputs": [
    {
     "data": {
      "application/vnd.jupyter.widget-view+json": {
       "model_id": "c3224cd35d2644948e272687102a0d18",
       "version_major": 2,
       "version_minor": 0
      },
      "text/plain": [
       "Testing Progress:   0%|          | 0/79 [00:00<?, ?it/s]"
      ]
     },
     "metadata": {},
     "output_type": "display_data"
    },
    {
     "name": "stdout",
     "output_type": "stream",
     "text": [
      "2842\n"
     ]
    }
   ],
   "source": [
    "# Now do the same on adversarial data check if there are any adversarial samples\n",
    "# Use a pretty progress bar to show updates\n",
    "data = []\n",
    "\n",
    "for j, (images, labels) in enumerate(\n",
    "    tqdm(testSetLoader, desc=\"Testing Progress\", leave=False)\n",
    "):\n",
    "    # Cast to proper tensor\n",
    "    images, labels = images.to(device), labels.to(device)\n",
    "\n",
    "    # Perturb the images using the attack\n",
    "    perturbed_images = pgd.pgd_attack(\n",
    "        images,\n",
    "        labels,\n",
    "        framework_model,\n",
    "        loss_function,\n",
    "        epsilon=0.85,\n",
    "        alpha=(2 / 255),\n",
    "        iterations=200,\n",
    "        scale=True,\n",
    "    )\n",
    "\n",
    "    for perturbed_image in perturbed_images:\n",
    "        data.append(perturbed_image.detach().cpu().numpy())\n",
    "\n",
    "data = np.asarray(data)\n",
    "numpyTestData = data.astype(\"float32\")\n",
    "reshapedNumpyTestData = numpyTestData.reshape((len(numpyTestData), 28 * 28))\n",
    "\n",
    "# Original predictions on data\n",
    "testTensor = torch.from_numpy(\n",
    "    np.reshape(numpyTestData, (len(numpyTestData), 1, 28, 28))\n",
    ").to(device)\n",
    "logits = framework_model(testTensor).detach().cpu().numpy()\n",
    "predictions_base = np.array([np.argmax(logits[i]) for i in range(len(numpyTestData))])\n",
    "\n",
    "# Transform clean data along principal components\n",
    "transformedTestData = pca.transform(reshapedNumpyTestData)\n",
    "\n",
    "# Decides how many of the least significant coefficients (of components) to perturb\n",
    "num_components = 300\n",
    "\n",
    "# How many trials to run\n",
    "num_trials = 25\n",
    "\n",
    "# Track results\n",
    "result = np.zeros(len(numpyTestData), dtype=int)\n",
    "\n",
    "# Actual attempts\n",
    "for trial in range(num_trials):\n",
    "    random_noise = np.random.standard_normal(size=num_components)\n",
    "\n",
    "    # Copy the data\n",
    "    transformedTestDataNoisy = np.copy(transformedTestData)\n",
    "\n",
    "    # Update the components with the right data\n",
    "    for index in range(len(numpyTestData)):\n",
    "        transformedTestDataNoisy[index][(28 * 28 - num_components) :] += (\n",
    "            10 * random_noise\n",
    "        )\n",
    "\n",
    "    # Now calculate the inverse using PCA and the noise\n",
    "    inverseTestDataNoisy = pca.inverse_transform(transformedTestDataNoisy)\n",
    "\n",
    "    # Reshape into image\n",
    "    testDataNoisy = np.reshape(inverseTestDataNoisy, (len(numpyTestData), 1, 28, 28))\n",
    "\n",
    "    # Predict\n",
    "    testTensor = torch.from_numpy(\n",
    "        np.reshape(testDataNoisy, (len(testDataNoisy), 1, 28, 28))\n",
    "    ).to(device)\n",
    "    logits = logits = framework_model(testTensor).detach().cpu().numpy()\n",
    "    predictions_modified = np.array(\n",
    "        [np.argmax(logits[i]) for i in range(len(testDataNoisy))]\n",
    "    )\n",
    "\n",
    "    check = np.not_equal(predictions_modified, predictions_base)\n",
    "    result = np.logical_or(check, result)\n",
    "\n",
    "# Printing\n",
    "print(np.sum(result))"
   ]
  },
  {
   "cell_type": "markdown",
   "id": "130d03e9-087f-4ed8-91a0-011e83a6f7e3",
   "metadata": {},
   "source": [
    "#### $CW_{2}$ Data"
   ]
  },
  {
   "cell_type": "code",
   "execution_count": 17,
   "id": "530badda-7676-46c0-9478-a151409d534d",
   "metadata": {},
   "outputs": [
    {
     "data": {
      "application/vnd.jupyter.widget-view+json": {
       "model_id": "32267130b0184d57b04cddf015cee6fb",
       "version_major": 2,
       "version_minor": 0
      },
      "text/plain": [
       "Testing Progress:   0%|          | 0/79 [00:00<?, ?it/s]"
      ]
     },
     "metadata": {},
     "output_type": "display_data"
    },
    {
     "name": "stdout",
     "output_type": "stream",
     "text": [
      "9952\n"
     ]
    }
   ],
   "source": [
    "cw_attack = torchattacks.CW(framework_model, c=1, steps=500)\n",
    "\n",
    "# Now do the same on adversarial data check if there are any adversarial samples\n",
    "# Use a pretty progress bar to show updates\n",
    "data = []\n",
    "\n",
    "for j, (images, labels) in enumerate(\n",
    "    tqdm(testSetLoader, desc=\"Testing Progress\", leave=False)\n",
    "):\n",
    "    # Cast to proper tensor\n",
    "    images, labels = images.to(device), labels.to(device)\n",
    "\n",
    "    # Perturb the images using the attack\n",
    "    perturbed_images = cw_attack(\n",
    "        images,\n",
    "        labels,\n",
    "    )\n",
    "\n",
    "    for perturbed_image in perturbed_images:\n",
    "        data.append(perturbed_image.detach().cpu().numpy())\n",
    "\n",
    "data = np.asarray(data)\n",
    "numpyTestData = data.astype(\"float32\")\n",
    "reshapedNumpyTestData = numpyTestData.reshape((len(numpyTestData), 28 * 28))\n",
    "\n",
    "# Original predictions on data\n",
    "testTensor = torch.from_numpy(\n",
    "    np.reshape(numpyTestData, (len(numpyTestData), 1, 28, 28))\n",
    ").to(device)\n",
    "logits = framework_model(testTensor).detach().cpu().numpy()\n",
    "predictions_base = np.array([np.argmax(logits[i]) for i in range(len(numpyTestData))])\n",
    "\n",
    "# Transform clean data along principal components\n",
    "transformedTestData = pca.transform(reshapedNumpyTestData)\n",
    "\n",
    "# Decides how many of the least significant coefficients (of components) to perturb\n",
    "num_components = 200\n",
    "\n",
    "# How many trials to run\n",
    "num_trials = 25\n",
    "\n",
    "# Track results\n",
    "result = np.zeros(len(numpyTestData), dtype=int)\n",
    "\n",
    "# Actual attempts\n",
    "for trial in range(num_trials):\n",
    "    random_noise = np.random.standard_normal(size=num_components)\n",
    "\n",
    "    # Copy the data\n",
    "    transformedTestDataNoisy = np.copy(transformedTestData)\n",
    "\n",
    "    # Update the components with the right data\n",
    "    for index in range(len(numpyTestData)):\n",
    "        transformedTestDataNoisy[index][(28 * 28 - num_components) :] += (\n",
    "            10 * random_noise\n",
    "        )\n",
    "\n",
    "    # Now calculate the inverse using PCA and the noise\n",
    "    inverseTestDataNoisy = pca.inverse_transform(transformedTestDataNoisy)\n",
    "\n",
    "    # Reshape into image\n",
    "    testDataNoisy = np.reshape(inverseTestDataNoisy, (len(numpyTestData), 1, 28, 28))\n",
    "\n",
    "    # Predict\n",
    "    testTensor = torch.from_numpy(\n",
    "        np.reshape(testDataNoisy, (len(testDataNoisy), 1, 28, 28))\n",
    "    ).to(device)\n",
    "    logits = logits = framework_model(testTensor).detach().cpu().numpy()\n",
    "    predictions_modified = np.array(\n",
    "        [np.argmax(logits[i]) for i in range(len(testDataNoisy))]\n",
    "    )\n",
    "\n",
    "    check = np.not_equal(predictions_modified, predictions_base)\n",
    "    result = np.logical_or(check, result)\n",
    "\n",
    "# Printing\n",
    "print(np.sum(result))"
   ]
  },
  {
   "cell_type": "code",
   "execution_count": 18,
   "id": "14baad83-4aab-4719-b884-b6a9df84be7d",
   "metadata": {},
   "outputs": [
    {
     "data": {
      "application/vnd.jupyter.widget-view+json": {
       "model_id": "b9fb48b9e201412283b185c08f1d5b73",
       "version_major": 2,
       "version_minor": 0
      },
      "text/plain": [
       "Testing Progress:   0%|          | 0/79 [00:00<?, ?it/s]"
      ]
     },
     "metadata": {},
     "output_type": "display_data"
    },
    {
     "name": "stdout",
     "output_type": "stream",
     "text": [
      "9571\n"
     ]
    }
   ],
   "source": [
    "cw_attack = torchattacks.CW(framework_model, c=3, steps=500)\n",
    "\n",
    "# Now do the same on adversarial data check if there are any adversarial samples\n",
    "# Use a pretty progress bar to show updates\n",
    "data = []\n",
    "\n",
    "for j, (images, labels) in enumerate(\n",
    "    tqdm(testSetLoader, desc=\"Testing Progress\", leave=False)\n",
    "):\n",
    "    # Cast to proper tensor\n",
    "    images, labels = images.to(device), labels.to(device)\n",
    "\n",
    "    # Perturb the images using the attack\n",
    "    perturbed_images = cw_attack(\n",
    "        images,\n",
    "        labels,\n",
    "    )\n",
    "\n",
    "    for perturbed_image in perturbed_images:\n",
    "        data.append(perturbed_image.detach().cpu().numpy())\n",
    "\n",
    "data = np.asarray(data)\n",
    "numpyTestData = data.astype(\"float32\")\n",
    "reshapedNumpyTestData = numpyTestData.reshape((len(numpyTestData), 28 * 28))\n",
    "\n",
    "# Original predictions on data\n",
    "testTensor = torch.from_numpy(\n",
    "    np.reshape(numpyTestData, (len(numpyTestData), 1, 28, 28))\n",
    ").to(device)\n",
    "logits = framework_model(testTensor).detach().cpu().numpy()\n",
    "predictions_base = np.array([np.argmax(logits[i]) for i in range(len(numpyTestData))])\n",
    "\n",
    "# Transform clean data along principal components\n",
    "transformedTestData = pca.transform(reshapedNumpyTestData)\n",
    "\n",
    "# Decides how many of the least significant coefficients (of components) to perturb\n",
    "num_components = 200\n",
    "\n",
    "# How many trials to run\n",
    "num_trials = 25\n",
    "\n",
    "# Track results\n",
    "result = np.zeros(len(numpyTestData), dtype=int)\n",
    "\n",
    "# Actual attempts\n",
    "for trial in range(num_trials):\n",
    "    random_noise = np.random.standard_normal(size=num_components)\n",
    "\n",
    "    # Copy the data\n",
    "    transformedTestDataNoisy = np.copy(transformedTestData)\n",
    "\n",
    "    # Update the components with the right data\n",
    "    for index in range(len(numpyTestData)):\n",
    "        transformedTestDataNoisy[index][(28 * 28 - num_components) :] += (\n",
    "            10 * random_noise\n",
    "        )\n",
    "\n",
    "    # Now calculate the inverse using PCA and the noise\n",
    "    inverseTestDataNoisy = pca.inverse_transform(transformedTestDataNoisy)\n",
    "\n",
    "    # Reshape into image\n",
    "    testDataNoisy = np.reshape(inverseTestDataNoisy, (len(numpyTestData), 1, 28, 28))\n",
    "\n",
    "    # Predict\n",
    "    testTensor = torch.from_numpy(\n",
    "        np.reshape(testDataNoisy, (len(testDataNoisy), 1, 28, 28))\n",
    "    ).to(device)\n",
    "    logits = logits = framework_model(testTensor).detach().cpu().numpy()\n",
    "    predictions_modified = np.array(\n",
    "        [np.argmax(logits[i]) for i in range(len(testDataNoisy))]\n",
    "    )\n",
    "\n",
    "    check = np.not_equal(predictions_modified, predictions_base)\n",
    "    result = np.logical_or(check, result)\n",
    "\n",
    "# Printing\n",
    "print(np.sum(result))"
   ]
  }
 ],
 "metadata": {
  "kernelspec": {
   "display_name": "Python 3.8.10 64-bit",
   "language": "python",
   "name": "python3"
  },
  "language_info": {
   "codemirror_mode": {
    "name": "ipython",
    "version": 3
   },
   "file_extension": ".py",
   "mimetype": "text/x-python",
   "name": "python",
   "nbconvert_exporter": "python",
   "pygments_lexer": "ipython3",
   "version": "3.8.10"
  },
  "vscode": {
   "interpreter": {
    "hash": "916dbcbb3f70747c44a77c7bcd40155683ae19c65e1c03b4aa3499c5328201f1"
   }
  }
 },
 "nbformat": 4,
 "nbformat_minor": 5
}
